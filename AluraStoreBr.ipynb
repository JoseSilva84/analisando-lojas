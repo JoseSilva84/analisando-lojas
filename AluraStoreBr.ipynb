{
  "cells": [
    {
      "cell_type": "markdown",
      "metadata": {
        "id": "RhEdWd9YUR6H"
      },
      "source": [
        "### Importação dos dados\n",
        "\n"
      ]
    },
    {
      "cell_type": "code",
      "execution_count": 2,
      "metadata": {
        "colab": {
          "base_uri": "https://localhost:8080/",
          "height": 206
        },
        "id": "T3EvaeQ_INIL",
        "outputId": "7194bc65-372c-47e6-cb47-d4bfc9952c91"
      },
      "outputs": [
        {
          "data": {
            "text/html": [
              "<div>\n",
              "<style scoped>\n",
              "    .dataframe tbody tr th:only-of-type {\n",
              "        vertical-align: middle;\n",
              "    }\n",
              "\n",
              "    .dataframe tbody tr th {\n",
              "        vertical-align: top;\n",
              "    }\n",
              "\n",
              "    .dataframe thead th {\n",
              "        text-align: right;\n",
              "    }\n",
              "</style>\n",
              "<table border=\"1\" class=\"dataframe\">\n",
              "  <thead>\n",
              "    <tr style=\"text-align: right;\">\n",
              "      <th></th>\n",
              "      <th>Produto</th>\n",
              "      <th>Categoria do Produto</th>\n",
              "      <th>Preço</th>\n",
              "      <th>Frete</th>\n",
              "      <th>Data da Compra</th>\n",
              "      <th>Vendedor</th>\n",
              "      <th>Local da compra</th>\n",
              "      <th>Avaliação da compra</th>\n",
              "      <th>Tipo de pagamento</th>\n",
              "      <th>Quantidade de parcelas</th>\n",
              "      <th>lat</th>\n",
              "      <th>lon</th>\n",
              "    </tr>\n",
              "  </thead>\n",
              "  <tbody>\n",
              "    <tr>\n",
              "      <th>0</th>\n",
              "      <td>Assistente virtual</td>\n",
              "      <td>eletronicos</td>\n",
              "      <td>219.08</td>\n",
              "      <td>9.249790</td>\n",
              "      <td>16/01/2021</td>\n",
              "      <td>Pedro Gomes</td>\n",
              "      <td>SP</td>\n",
              "      <td>4</td>\n",
              "      <td>cartao_credito</td>\n",
              "      <td>8</td>\n",
              "      <td>-22.19</td>\n",
              "      <td>-48.79</td>\n",
              "    </tr>\n",
              "    <tr>\n",
              "      <th>1</th>\n",
              "      <td>Mesa de jantar</td>\n",
              "      <td>moveis</td>\n",
              "      <td>256.35</td>\n",
              "      <td>11.234305</td>\n",
              "      <td>18/05/2022</td>\n",
              "      <td>Beatriz Moraes</td>\n",
              "      <td>RJ</td>\n",
              "      <td>1</td>\n",
              "      <td>cartao_credito</td>\n",
              "      <td>4</td>\n",
              "      <td>-22.25</td>\n",
              "      <td>-42.66</td>\n",
              "    </tr>\n",
              "    <tr>\n",
              "      <th>2</th>\n",
              "      <td>Jogo de tabuleiro</td>\n",
              "      <td>brinquedos</td>\n",
              "      <td>279.51</td>\n",
              "      <td>21.262681</td>\n",
              "      <td>15/03/2021</td>\n",
              "      <td>João Souza</td>\n",
              "      <td>DF</td>\n",
              "      <td>1</td>\n",
              "      <td>cartao_credito</td>\n",
              "      <td>1</td>\n",
              "      <td>-15.83</td>\n",
              "      <td>-47.86</td>\n",
              "    </tr>\n",
              "    <tr>\n",
              "      <th>3</th>\n",
              "      <td>Micro-ondas</td>\n",
              "      <td>eletrodomesticos</td>\n",
              "      <td>1009.99</td>\n",
              "      <td>54.667344</td>\n",
              "      <td>03/05/2022</td>\n",
              "      <td>João Souza</td>\n",
              "      <td>RS</td>\n",
              "      <td>4</td>\n",
              "      <td>boleto</td>\n",
              "      <td>1</td>\n",
              "      <td>-30.17</td>\n",
              "      <td>-53.50</td>\n",
              "    </tr>\n",
              "    <tr>\n",
              "      <th>4</th>\n",
              "      <td>Cadeira de escritório</td>\n",
              "      <td>moveis</td>\n",
              "      <td>446.99</td>\n",
              "      <td>26.964689</td>\n",
              "      <td>07/11/2020</td>\n",
              "      <td>Larissa Alves</td>\n",
              "      <td>MG</td>\n",
              "      <td>5</td>\n",
              "      <td>boleto</td>\n",
              "      <td>1</td>\n",
              "      <td>-18.10</td>\n",
              "      <td>-44.38</td>\n",
              "    </tr>\n",
              "  </tbody>\n",
              "</table>\n",
              "</div>"
            ],
            "text/plain": [
              "                 Produto Categoria do Produto    Preço      Frete  \\\n",
              "0     Assistente virtual          eletronicos   219.08   9.249790   \n",
              "1         Mesa de jantar               moveis   256.35  11.234305   \n",
              "2      Jogo de tabuleiro           brinquedos   279.51  21.262681   \n",
              "3            Micro-ondas     eletrodomesticos  1009.99  54.667344   \n",
              "4  Cadeira de escritório               moveis   446.99  26.964689   \n",
              "\n",
              "  Data da Compra        Vendedor Local da compra  Avaliação da compra  \\\n",
              "0     16/01/2021     Pedro Gomes              SP                    4   \n",
              "1     18/05/2022  Beatriz Moraes              RJ                    1   \n",
              "2     15/03/2021      João Souza              DF                    1   \n",
              "3     03/05/2022      João Souza              RS                    4   \n",
              "4     07/11/2020   Larissa Alves              MG                    5   \n",
              "\n",
              "  Tipo de pagamento  Quantidade de parcelas    lat    lon  \n",
              "0    cartao_credito                       8 -22.19 -48.79  \n",
              "1    cartao_credito                       4 -22.25 -42.66  \n",
              "2    cartao_credito                       1 -15.83 -47.86  \n",
              "3            boleto                       1 -30.17 -53.50  \n",
              "4            boleto                       1 -18.10 -44.38  "
            ]
          },
          "execution_count": 2,
          "metadata": {},
          "output_type": "execute_result"
        }
      ],
      "source": [
        "import pandas as pd\n",
        "\n",
        "url = \"https://raw.githubusercontent.com/alura-es-cursos/challenge1-data-science/refs/heads/main/base-de-dados-challenge-1/loja_1.csv\"\n",
        "url2 = \"https://raw.githubusercontent.com/alura-es-cursos/challenge1-data-science/refs/heads/main/base-de-dados-challenge-1/loja_2.csv\"\n",
        "url3 = \"https://raw.githubusercontent.com/alura-es-cursos/challenge1-data-science/refs/heads/main/base-de-dados-challenge-1/loja_3.csv\"\n",
        "url4 = \"https://raw.githubusercontent.com/alura-es-cursos/challenge1-data-science/refs/heads/main/base-de-dados-challenge-1/loja_4.csv\"\n",
        "\n",
        "loja1 = pd.read_csv(url)\n",
        "loja2 = pd.read_csv(url2)\n",
        "loja3 = pd.read_csv(url3)\n",
        "loja4 = pd.read_csv(url4)\n",
        "\n",
        "loja1.head()"
      ]
    },
    {
      "cell_type": "code",
      "execution_count": 26,
      "metadata": {},
      "outputs": [
        {
          "data": {
            "text/html": [
              "<div>\n",
              "<style scoped>\n",
              "    .dataframe tbody tr th:only-of-type {\n",
              "        vertical-align: middle;\n",
              "    }\n",
              "\n",
              "    .dataframe tbody tr th {\n",
              "        vertical-align: top;\n",
              "    }\n",
              "\n",
              "    .dataframe thead th {\n",
              "        text-align: right;\n",
              "    }\n",
              "</style>\n",
              "<table border=\"1\" class=\"dataframe\">\n",
              "  <thead>\n",
              "    <tr style=\"text-align: right;\">\n",
              "      <th></th>\n",
              "      <th>Produto</th>\n",
              "      <th>Categoria do Produto</th>\n",
              "      <th>Preço</th>\n",
              "      <th>Frete</th>\n",
              "      <th>Data da Compra</th>\n",
              "      <th>Vendedor</th>\n",
              "      <th>Local da compra</th>\n",
              "      <th>Avaliação da compra</th>\n",
              "      <th>Tipo de pagamento</th>\n",
              "      <th>Quantidade de parcelas</th>\n",
              "      <th>lat</th>\n",
              "      <th>lon</th>\n",
              "    </tr>\n",
              "  </thead>\n",
              "  <tbody>\n",
              "    <tr>\n",
              "      <th>0</th>\n",
              "      <td>Cadeira de escritório</td>\n",
              "      <td>moveis</td>\n",
              "      <td>378.20</td>\n",
              "      <td>20.421138</td>\n",
              "      <td>04/08/2021</td>\n",
              "      <td>Thiago Silva</td>\n",
              "      <td>MG</td>\n",
              "      <td>1</td>\n",
              "      <td>boleto</td>\n",
              "      <td>1</td>\n",
              "      <td>-18.10</td>\n",
              "      <td>-44.38</td>\n",
              "    </tr>\n",
              "    <tr>\n",
              "      <th>1</th>\n",
              "      <td>Pandeiro</td>\n",
              "      <td>instrumentos musicais</td>\n",
              "      <td>102.37</td>\n",
              "      <td>3.035334</td>\n",
              "      <td>26/11/2020</td>\n",
              "      <td>Bianca Santos</td>\n",
              "      <td>RJ</td>\n",
              "      <td>3</td>\n",
              "      <td>cartao_credito</td>\n",
              "      <td>4</td>\n",
              "      <td>-22.25</td>\n",
              "      <td>-42.66</td>\n",
              "    </tr>\n",
              "    <tr>\n",
              "      <th>2</th>\n",
              "      <td>Cama king</td>\n",
              "      <td>moveis</td>\n",
              "      <td>591.13</td>\n",
              "      <td>31.759020</td>\n",
              "      <td>22/10/2021</td>\n",
              "      <td>Thiago Silva</td>\n",
              "      <td>SC</td>\n",
              "      <td>5</td>\n",
              "      <td>cartao_credito</td>\n",
              "      <td>10</td>\n",
              "      <td>-27.45</td>\n",
              "      <td>-50.95</td>\n",
              "    </tr>\n",
              "    <tr>\n",
              "      <th>3</th>\n",
              "      <td>Cama king</td>\n",
              "      <td>moveis</td>\n",
              "      <td>1208.24</td>\n",
              "      <td>61.919584</td>\n",
              "      <td>04/05/2022</td>\n",
              "      <td>Larissa Alves</td>\n",
              "      <td>RS</td>\n",
              "      <td>5</td>\n",
              "      <td>cartao_credito</td>\n",
              "      <td>10</td>\n",
              "      <td>-30.17</td>\n",
              "      <td>-53.50</td>\n",
              "    </tr>\n",
              "    <tr>\n",
              "      <th>4</th>\n",
              "      <td>Cadeira de escritório</td>\n",
              "      <td>moveis</td>\n",
              "      <td>530.41</td>\n",
              "      <td>25.827176</td>\n",
              "      <td>26/02/2022</td>\n",
              "      <td>Lucas Oliveira</td>\n",
              "      <td>SP</td>\n",
              "      <td>4</td>\n",
              "      <td>cartao_credito</td>\n",
              "      <td>3</td>\n",
              "      <td>-22.19</td>\n",
              "      <td>-48.79</td>\n",
              "    </tr>\n",
              "  </tbody>\n",
              "</table>\n",
              "</div>"
            ],
            "text/plain": [
              "                 Produto   Categoria do Produto    Preço      Frete  \\\n",
              "0  Cadeira de escritório                 moveis   378.20  20.421138   \n",
              "1               Pandeiro  instrumentos musicais   102.37   3.035334   \n",
              "2              Cama king                 moveis   591.13  31.759020   \n",
              "3              Cama king                 moveis  1208.24  61.919584   \n",
              "4  Cadeira de escritório                 moveis   530.41  25.827176   \n",
              "\n",
              "  Data da Compra        Vendedor Local da compra  Avaliação da compra  \\\n",
              "0     04/08/2021    Thiago Silva              MG                    1   \n",
              "1     26/11/2020   Bianca Santos              RJ                    3   \n",
              "2     22/10/2021    Thiago Silva              SC                    5   \n",
              "3     04/05/2022   Larissa Alves              RS                    5   \n",
              "4     26/02/2022  Lucas Oliveira              SP                    4   \n",
              "\n",
              "  Tipo de pagamento  Quantidade de parcelas    lat    lon  \n",
              "0            boleto                       1 -18.10 -44.38  \n",
              "1    cartao_credito                       4 -22.25 -42.66  \n",
              "2    cartao_credito                      10 -27.45 -50.95  \n",
              "3    cartao_credito                      10 -30.17 -53.50  \n",
              "4    cartao_credito                       3 -22.19 -48.79  "
            ]
          },
          "execution_count": 26,
          "metadata": {},
          "output_type": "execute_result"
        }
      ],
      "source": [
        "loja2.head()"
      ]
    },
    {
      "cell_type": "code",
      "execution_count": 27,
      "metadata": {},
      "outputs": [
        {
          "data": {
            "text/html": [
              "<div>\n",
              "<style scoped>\n",
              "    .dataframe tbody tr th:only-of-type {\n",
              "        vertical-align: middle;\n",
              "    }\n",
              "\n",
              "    .dataframe tbody tr th {\n",
              "        vertical-align: top;\n",
              "    }\n",
              "\n",
              "    .dataframe thead th {\n",
              "        text-align: right;\n",
              "    }\n",
              "</style>\n",
              "<table border=\"1\" class=\"dataframe\">\n",
              "  <thead>\n",
              "    <tr style=\"text-align: right;\">\n",
              "      <th></th>\n",
              "      <th>Produto</th>\n",
              "      <th>Categoria do Produto</th>\n",
              "      <th>Preço</th>\n",
              "      <th>Frete</th>\n",
              "      <th>Data da Compra</th>\n",
              "      <th>Vendedor</th>\n",
              "      <th>Local da compra</th>\n",
              "      <th>Avaliação da compra</th>\n",
              "      <th>Tipo de pagamento</th>\n",
              "      <th>Quantidade de parcelas</th>\n",
              "      <th>lat</th>\n",
              "      <th>lon</th>\n",
              "    </tr>\n",
              "  </thead>\n",
              "  <tbody>\n",
              "    <tr>\n",
              "      <th>0</th>\n",
              "      <td>Secadora de roupas</td>\n",
              "      <td>eletrodomesticos</td>\n",
              "      <td>1713.50</td>\n",
              "      <td>88.823159</td>\n",
              "      <td>17/12/2021</td>\n",
              "      <td>Camila Ribeiro</td>\n",
              "      <td>CE</td>\n",
              "      <td>4</td>\n",
              "      <td>cartao_credito</td>\n",
              "      <td>4</td>\n",
              "      <td>-5.20</td>\n",
              "      <td>-39.53</td>\n",
              "    </tr>\n",
              "    <tr>\n",
              "      <th>1</th>\n",
              "      <td>Cômoda</td>\n",
              "      <td>moveis</td>\n",
              "      <td>386.81</td>\n",
              "      <td>18.180908</td>\n",
              "      <td>10/02/2021</td>\n",
              "      <td>Larissa Alves</td>\n",
              "      <td>RS</td>\n",
              "      <td>3</td>\n",
              "      <td>cartao_credito</td>\n",
              "      <td>1</td>\n",
              "      <td>-30.17</td>\n",
              "      <td>-53.50</td>\n",
              "    </tr>\n",
              "    <tr>\n",
              "      <th>2</th>\n",
              "      <td>Violão</td>\n",
              "      <td>instrumentos musicais</td>\n",
              "      <td>404.62</td>\n",
              "      <td>23.197592</td>\n",
              "      <td>22/01/2023</td>\n",
              "      <td>Lucas Oliveira</td>\n",
              "      <td>SP</td>\n",
              "      <td>5</td>\n",
              "      <td>cartao_credito</td>\n",
              "      <td>3</td>\n",
              "      <td>-22.19</td>\n",
              "      <td>-48.79</td>\n",
              "    </tr>\n",
              "    <tr>\n",
              "      <th>3</th>\n",
              "      <td>Bola de vôlei</td>\n",
              "      <td>esporte e lazer</td>\n",
              "      <td>78.40</td>\n",
              "      <td>4.463341</td>\n",
              "      <td>22/03/2022</td>\n",
              "      <td>Pedro Gomes</td>\n",
              "      <td>BA</td>\n",
              "      <td>4</td>\n",
              "      <td>cartao_credito</td>\n",
              "      <td>6</td>\n",
              "      <td>-13.29</td>\n",
              "      <td>-41.71</td>\n",
              "    </tr>\n",
              "    <tr>\n",
              "      <th>4</th>\n",
              "      <td>Guarda roupas</td>\n",
              "      <td>moveis</td>\n",
              "      <td>694.76</td>\n",
              "      <td>34.578319</td>\n",
              "      <td>12/01/2022</td>\n",
              "      <td>Bianca Santos</td>\n",
              "      <td>SP</td>\n",
              "      <td>1</td>\n",
              "      <td>cartao_credito</td>\n",
              "      <td>1</td>\n",
              "      <td>-22.19</td>\n",
              "      <td>-48.79</td>\n",
              "    </tr>\n",
              "  </tbody>\n",
              "</table>\n",
              "</div>"
            ],
            "text/plain": [
              "              Produto   Categoria do Produto    Preço      Frete  \\\n",
              "0  Secadora de roupas       eletrodomesticos  1713.50  88.823159   \n",
              "1              Cômoda                 moveis   386.81  18.180908   \n",
              "2              Violão  instrumentos musicais   404.62  23.197592   \n",
              "3       Bola de vôlei        esporte e lazer    78.40   4.463341   \n",
              "4       Guarda roupas                 moveis   694.76  34.578319   \n",
              "\n",
              "  Data da Compra        Vendedor Local da compra  Avaliação da compra  \\\n",
              "0     17/12/2021  Camila Ribeiro              CE                    4   \n",
              "1     10/02/2021   Larissa Alves              RS                    3   \n",
              "2     22/01/2023  Lucas Oliveira              SP                    5   \n",
              "3     22/03/2022     Pedro Gomes              BA                    4   \n",
              "4     12/01/2022   Bianca Santos              SP                    1   \n",
              "\n",
              "  Tipo de pagamento  Quantidade de parcelas    lat    lon  \n",
              "0    cartao_credito                       4  -5.20 -39.53  \n",
              "1    cartao_credito                       1 -30.17 -53.50  \n",
              "2    cartao_credito                       3 -22.19 -48.79  \n",
              "3    cartao_credito                       6 -13.29 -41.71  \n",
              "4    cartao_credito                       1 -22.19 -48.79  "
            ]
          },
          "execution_count": 27,
          "metadata": {},
          "output_type": "execute_result"
        }
      ],
      "source": [
        "loja3.head()"
      ]
    },
    {
      "cell_type": "code",
      "execution_count": 28,
      "metadata": {},
      "outputs": [
        {
          "data": {
            "text/html": [
              "<div>\n",
              "<style scoped>\n",
              "    .dataframe tbody tr th:only-of-type {\n",
              "        vertical-align: middle;\n",
              "    }\n",
              "\n",
              "    .dataframe tbody tr th {\n",
              "        vertical-align: top;\n",
              "    }\n",
              "\n",
              "    .dataframe thead th {\n",
              "        text-align: right;\n",
              "    }\n",
              "</style>\n",
              "<table border=\"1\" class=\"dataframe\">\n",
              "  <thead>\n",
              "    <tr style=\"text-align: right;\">\n",
              "      <th></th>\n",
              "      <th>Produto</th>\n",
              "      <th>Categoria do Produto</th>\n",
              "      <th>Preço</th>\n",
              "      <th>Frete</th>\n",
              "      <th>Data da Compra</th>\n",
              "      <th>Vendedor</th>\n",
              "      <th>Local da compra</th>\n",
              "      <th>Avaliação da compra</th>\n",
              "      <th>Tipo de pagamento</th>\n",
              "      <th>Quantidade de parcelas</th>\n",
              "      <th>lat</th>\n",
              "      <th>lon</th>\n",
              "    </tr>\n",
              "  </thead>\n",
              "  <tbody>\n",
              "    <tr>\n",
              "      <th>0</th>\n",
              "      <td>Lava louças</td>\n",
              "      <td>eletrodomesticos</td>\n",
              "      <td>1446.46</td>\n",
              "      <td>74.604083</td>\n",
              "      <td>11/11/2022</td>\n",
              "      <td>Rafael Costa</td>\n",
              "      <td>SP</td>\n",
              "      <td>4</td>\n",
              "      <td>cartao_credito</td>\n",
              "      <td>3</td>\n",
              "      <td>-22.19</td>\n",
              "      <td>-48.79</td>\n",
              "    </tr>\n",
              "    <tr>\n",
              "      <th>1</th>\n",
              "      <td>Cama box</td>\n",
              "      <td>moveis</td>\n",
              "      <td>631.70</td>\n",
              "      <td>33.919251</td>\n",
              "      <td>03/01/2020</td>\n",
              "      <td>Thiago Silva</td>\n",
              "      <td>GO</td>\n",
              "      <td>5</td>\n",
              "      <td>cartao_credito</td>\n",
              "      <td>2</td>\n",
              "      <td>-15.98</td>\n",
              "      <td>-49.86</td>\n",
              "    </tr>\n",
              "    <tr>\n",
              "      <th>2</th>\n",
              "      <td>Bola de basquete</td>\n",
              "      <td>esporte e lazer</td>\n",
              "      <td>31.54</td>\n",
              "      <td>0.000000</td>\n",
              "      <td>25/12/2022</td>\n",
              "      <td>Larissa Alves</td>\n",
              "      <td>MG</td>\n",
              "      <td>5</td>\n",
              "      <td>boleto</td>\n",
              "      <td>1</td>\n",
              "      <td>-18.10</td>\n",
              "      <td>-44.38</td>\n",
              "    </tr>\n",
              "    <tr>\n",
              "      <th>3</th>\n",
              "      <td>Modelagem preditiva</td>\n",
              "      <td>livros</td>\n",
              "      <td>76.93</td>\n",
              "      <td>1.680730</td>\n",
              "      <td>23/11/2021</td>\n",
              "      <td>Lucas Oliveira</td>\n",
              "      <td>MG</td>\n",
              "      <td>3</td>\n",
              "      <td>boleto</td>\n",
              "      <td>1</td>\n",
              "      <td>-18.10</td>\n",
              "      <td>-44.38</td>\n",
              "    </tr>\n",
              "    <tr>\n",
              "      <th>4</th>\n",
              "      <td>Fone de ouvido</td>\n",
              "      <td>eletronicos</td>\n",
              "      <td>185.14</td>\n",
              "      <td>7.442587</td>\n",
              "      <td>25/04/2022</td>\n",
              "      <td>Bianca Santos</td>\n",
              "      <td>SP</td>\n",
              "      <td>4</td>\n",
              "      <td>cartao_credito</td>\n",
              "      <td>7</td>\n",
              "      <td>-22.19</td>\n",
              "      <td>-48.79</td>\n",
              "    </tr>\n",
              "  </tbody>\n",
              "</table>\n",
              "</div>"
            ],
            "text/plain": [
              "               Produto Categoria do Produto    Preço      Frete  \\\n",
              "0          Lava louças     eletrodomesticos  1446.46  74.604083   \n",
              "1             Cama box               moveis   631.70  33.919251   \n",
              "2     Bola de basquete      esporte e lazer    31.54   0.000000   \n",
              "3  Modelagem preditiva               livros    76.93   1.680730   \n",
              "4       Fone de ouvido          eletronicos   185.14   7.442587   \n",
              "\n",
              "  Data da Compra        Vendedor Local da compra  Avaliação da compra  \\\n",
              "0     11/11/2022    Rafael Costa              SP                    4   \n",
              "1     03/01/2020    Thiago Silva              GO                    5   \n",
              "2     25/12/2022   Larissa Alves              MG                    5   \n",
              "3     23/11/2021  Lucas Oliveira              MG                    3   \n",
              "4     25/04/2022   Bianca Santos              SP                    4   \n",
              "\n",
              "  Tipo de pagamento  Quantidade de parcelas    lat    lon  \n",
              "0    cartao_credito                       3 -22.19 -48.79  \n",
              "1    cartao_credito                       2 -15.98 -49.86  \n",
              "2            boleto                       1 -18.10 -44.38  \n",
              "3            boleto                       1 -18.10 -44.38  \n",
              "4    cartao_credito                       7 -22.19 -48.79  "
            ]
          },
          "execution_count": 28,
          "metadata": {},
          "output_type": "execute_result"
        }
      ],
      "source": [
        "loja4.head()"
      ]
    },
    {
      "cell_type": "markdown",
      "metadata": {
        "id": "X62IW3KFUIYm"
      },
      "source": [
        "# 1. Análise de faturamento\n"
      ]
    },
    {
      "cell_type": "code",
      "execution_count": 12,
      "metadata": {
        "id": "xykobSftV64I"
      },
      "outputs": [
        {
          "name": "stdout",
          "output_type": "stream",
          "text": [
            "Faturamento total da loja 1: R$ 1.534.509,12\n",
            "\n",
            "Faturamento total da loja 2: R$ 1.488.459,06\n",
            "\n",
            "Faturamento total da loja 3: R$ 1.464.025,03\n",
            "\n",
            "Faturamento total da loja 4: R$ 1.384.497,58\n"
          ]
        }
      ],
      "source": [
        "faturamento_loja1 = loja1['Preço'].sum()\n",
        "valor_formatado = \"R$ {:,.2f}\".format(faturamento_loja1).replace(',', 'x').replace('.', ',').replace('x', '.')\n",
        "print(f\"Faturamento total da loja 1: {valor_formatado}\")\n",
        "\n",
        "faturamento_loja2 = loja2['Preço'].sum()\n",
        "valor_formatado2 = \"R$ {:,.2f}\".format(faturamento_loja2).replace(',', 'x').replace('.', ',').replace('x', '.')\n",
        "print(f\"\\nFaturamento total da loja 2: {valor_formatado2}\")\n",
        "\n",
        "faturamento_loja3 = loja3['Preço'].sum()\n",
        "valor_formatado3 = \"R$ {:,.2f}\".format(faturamento_loja3).replace(',', 'x').replace('.', ',').replace('x', '.')\n",
        "print(f\"\\nFaturamento total da loja 3: {valor_formatado3}\")\n",
        "\n",
        "faturamento_loja4 = loja4['Preço'].sum()\n",
        "valor_formatado4 = \"R$ {:,.2f}\".format(faturamento_loja4).replace(',', 'x').replace('.', ',').replace('x', '.')\n",
        "print(f\"\\nFaturamento total da loja 4: {valor_formatado4}\")"
      ]
    },
    {
      "cell_type": "markdown",
      "metadata": {},
      "source": [
        "O maior faturamento é da loja 1 com R$ 1.534.509,12 e o menor é da loja 4 com R$ 1.384.497,58"
      ]
    },
    {
      "cell_type": "code",
      "execution_count": 12,
      "metadata": {},
      "outputs": [
        {
          "data": {
            "image/png": "[encoded data removed]",
            "text/plain": [
              "<Figure size 1000x600 with 1 Axes>"
            ]
          },
          "metadata": {},
          "output_type": "display_data"
        }
      ],
      "source": [
        "import matplotlib.pyplot as plt\n",
        "\n",
        "# Valores fictícios (substitua pelos valores reais do seu código)\n",
        "faturamentos = [1534509.12, 1488459.06, 1464025.03, 1384497.58]\n",
        "lojas = ['Loja 1', 'Loja 2', 'Loja 3', 'Loja 4']\n",
        "\n",
        "# Criando o gráfico\n",
        "plt.figure(figsize=(10, 6))\n",
        "barras = plt.bar(lojas, faturamentos, color='royalblue')\n",
        "\n",
        "# Adicionando os valores em cima de cada barra\n",
        "for barra in barras:\n",
        "    yval = barra.get_height()\n",
        "    plt.text(barra.get_x() + barra.get_width()/2.0, yval + 500, f\"R$ {yval}\", ha='center', va='bottom', fontsize=10)\n",
        "\n",
        "# Título e rótulos\n",
        "plt.title('Faturamento Total por Loja', fontsize=14)\n",
        "plt.ylabel('Faturamento (R$)')\n",
        "plt.grid(axis='y', linestyle='--', alpha=0.7)\n",
        "\n",
        "plt.tight_layout()\n",
        "plt.show()"
      ]
    },
    {
      "cell_type": "markdown",
      "metadata": {
        "id": "2V_vcAPzWZmR"
      },
      "source": [
        "# 2. Vendas por Categoria\n"
      ]
    },
    {
      "cell_type": "code",
      "execution_count": 10,
      "metadata": {
        "id": "A34YupIuYhfF"
      },
      "outputs": [
        {
          "name": "stdout",
          "output_type": "stream",
          "text": [
            "Loja 1:\n",
            "Categoria do Produto\n",
            "eletronicos              R$ 572.659,23\n",
            "eletrodomesticos         R$ 484.913,36\n",
            "moveis                   R$ 250.178,11\n",
            "instrumentos musicais    R$ 121.731,69\n",
            "esporte e lazer           R$ 52.387,55\n",
            "brinquedos                R$ 23.993,78\n",
            "utilidades domesticas     R$ 16.931,48\n",
            "livros                    R$ 11.713,92\n",
            "Name: Preço, dtype: object\n",
            "\n",
            "Loja 2:\n",
            "Categoria do Produto\n",
            "eletronicos              R$ 547.773,71\n",
            "eletrodomesticos         R$ 464.758,13\n",
            "moveis                   R$ 235.234,68\n",
            "instrumentos musicais    R$ 139.987,03\n",
            "esporte e lazer           R$ 46.326,09\n",
            "brinquedos                R$ 21.262,21\n",
            "utilidades domesticas     R$ 19.662,86\n",
            "livros                    R$ 13.454,35\n",
            "Name: Preço, dtype: object\n"
          ]
        }
      ],
      "source": [
        "vendas_categoria_loja1 = loja1.groupby(\"Categoria do Produto\")[\"Preço\"].sum().sort_values(ascending=False)\n",
        "vendas_categoria_loja1_formatado = vendas_categoria_loja1.apply(\n",
        "    lambda x: \"R$ {:,.2f}\".format(x).replace(',', 'X').replace('.', ',').replace('X', '.')\n",
        ")\n",
        "print(f\"Loja 1:\\n{vendas_categoria_loja1_formatado}\")\n",
        "\n",
        "vendas_categoria_loja2 = loja2.groupby(\"Categoria do Produto\")[\"Preço\"].sum().sort_values(ascending=False)\n",
        "vendas_categoria_loja2_formatado = vendas_categoria_loja2.apply(\n",
        "    lambda x: \"R$ {:,.2f}\".format(x).replace(',', 'X').replace('.', ',').replace('X', '.')\n",
        ")\n",
        "print(f\"\\nLoja 2:\\n{vendas_categoria_loja2_formatado}\")\n",
        "\n"
      ]
    },
    {
      "cell_type": "code",
      "execution_count": 11,
      "metadata": {},
      "outputs": [
        {
          "name": "stdout",
          "output_type": "stream",
          "text": [
            "\n",
            "Loja 3:\n",
            "Categoria do Produto\n",
            "eletronicos              R$ 547.699,92\n",
            "eletrodomesticos         R$ 438.984,89\n",
            "moveis                   R$ 268.095,56\n",
            "instrumentos musicais    R$ 103.174,45\n",
            "esporte e lazer           R$ 47.456,10\n",
            "brinquedos                R$ 25.869,20\n",
            "utilidades domesticas     R$ 20.080,21\n",
            "livros                    R$ 12.664,70\n",
            "Name: Preço, dtype: object\n",
            "\n",
            "Loja 4:\n",
            "Categoria do Produto\n",
            "eletronicos              R$ 545.966,86\n",
            "eletrodomesticos         R$ 377.680,65\n",
            "moveis                   R$ 256.705,65\n",
            "instrumentos musicais    R$ 100.136,50\n",
            "esporte e lazer           R$ 44.465,65\n",
            "brinquedos                R$ 27.015,67\n",
            "utilidades domesticas     R$ 20.098,83\n",
            "livros                    R$ 12.427,77\n",
            "Name: Preço, dtype: object\n"
          ]
        }
      ],
      "source": [
        "vendas_categoria_loja3 = loja3.groupby(\"Categoria do Produto\")[\"Preço\"].sum().sort_values(ascending=False)\n",
        "vendas_categoria_loja3_formatado = vendas_categoria_loja3.apply(\n",
        "    lambda x: \"R$ {:,.2f}\".format(x).replace(',', 'X').replace('.', ',').replace('X', '.')\n",
        ")\n",
        "print(f\"\\nLoja 3:\\n{vendas_categoria_loja3_formatado}\")\n",
        "\n",
        "vendas_categoria_loja4 = loja4.groupby(\"Categoria do Produto\")[\"Preço\"].sum().sort_values(ascending=False)\n",
        "vendas_categoria_loja4_formatado = vendas_categoria_loja4.apply(\n",
        "    lambda x: \"R$ {:,.2f}\".format(x).replace(',', 'X').replace('.', ',').replace('X', '.')\n",
        ")\n",
        "print(f\"\\nLoja 4:\\n{vendas_categoria_loja4_formatado}\")"
      ]
    },
    {
      "cell_type": "markdown",
      "metadata": {
        "id": "yZR6cOjXYSk1"
      },
      "source": [
        "As vendas por categoria revelaram que a categoria de produto mais vendido são eletrônicos e o menos vendido são livros."
      ]
    },
    {
      "cell_type": "code",
      "execution_count": null,
      "metadata": {},
      "outputs": [],
      "source": []
    },
    {
      "cell_type": "markdown",
      "metadata": {
        "id": "Rq6tU_xSY3jk"
      },
      "source": [
        "# 3. Média de Avaliação das Lojas"
      ]
    },
    {
      "cell_type": "code",
      "execution_count": 9,
      "metadata": {
        "id": "bh3jjjJwY5MU"
      },
      "outputs": [
        {
          "name": "stdout",
          "output_type": "stream",
          "text": [
            "A média da avaliação da loja 1 é: 3.98\n",
            "\n",
            "A média da avaliação da loja 2 é: 4.04\n",
            "\n",
            "A média da avaliação da loja 3 é: 4.05\n",
            "\n",
            "A média da avaliação da loja 4 é: 4.00\n"
          ]
        }
      ],
      "source": [
        "media_avaliacao_loja1 = loja1['Avaliação da compra'].mean()\n",
        "print(f\"A média da avaliação da loja 1 é: {media_avaliacao_loja1:.2f}\")\n",
        "\n",
        "media_avaliacao_loja2 = loja2['Avaliação da compra'].mean()\n",
        "print(f\"\\nA média da avaliação da loja 2 é: {media_avaliacao_loja2:.2f}\")\n",
        "\n",
        "media_avaliacao_loja3 = loja3['Avaliação da compra'].mean()\n",
        "print(f\"\\nA média da avaliação da loja 3 é: {media_avaliacao_loja3:.2f}\")\n",
        "\n",
        "media_avaliacao_loja4 = loja4['Avaliação da compra'].mean()\n",
        "print(f\"\\nA média da avaliação da loja 4 é: {media_avaliacao_loja4:.2f}\")"
      ]
    },
    {
      "cell_type": "markdown",
      "metadata": {},
      "source": [
        "A loja com a pior média de avaliação foi a 1 com média de 3.98 na pontuação, seguida da loja 4 com pontuação 4"
      ]
    },
    {
      "cell_type": "code",
      "execution_count": 7,
      "metadata": {
        "id": "qoyjqijQZHfF"
      },
      "outputs": [
        {
          "name": "stdout",
          "output_type": "stream",
          "text": [
            "Produto mais vendido (Loja 1): TV Led UHD 4K - 60 unidades\n",
            "Produto menos vendido (Loja 1): Headset - 33 unidade(s)\n",
            "\n",
            "Produto mais vendido (Loja 2): Iniciando em programação - 65 unidades\n",
            "Produto menos vendido (Loja2): Jogo de tabuleiro - 32 unidade(s)\n",
            "\n",
            "Produto mais vendido (Loja 3): Kit banquetas - 57 unidades\n",
            "Produto menos vendido (Loja 3): Blocos de montar - 35 unidade(s)\n",
            "\n",
            "Produto mais vendido (Loja 4): Cama box - 62 unidades\n",
            "Produto menos vendido (Loja 4): Guitarra - 33 unidade(s)\n"
          ]
        }
      ],
      "source": [
        "vendas_por_produto_loja1 = loja1['Produto'].value_counts()\n",
        "\n",
        "produto_mais_vendido = vendas_por_produto_loja1.idxmax()\n",
        "quantidade_mais_vendido = vendas_por_produto_loja1.max()\n",
        "\n",
        "produto_menos_vendido = vendas_por_produto_loja1.idxmin()\n",
        "quantidade_menos_vendido = vendas_por_produto_loja1.min()\n",
        "\n",
        "print(f\"Produto mais vendido (Loja 1): {produto_mais_vendido} - {quantidade_mais_vendido} unidades\")\n",
        "print(f\"Produto menos vendido (Loja 1): {produto_menos_vendido} - {quantidade_menos_vendido} unidade(s)\")\n",
        "\n",
        "vendas_por_produto_loja2 = loja2['Produto'].value_counts()\n",
        "\n",
        "produto_mais_vendido2 = vendas_por_produto_loja2.idxmax()\n",
        "quantidade_mais_vendido2 = vendas_por_produto_loja2.max()\n",
        "\n",
        "produto_menos_vendido2 = vendas_por_produto_loja2.idxmin()\n",
        "quantidade_menos_vendido2 = vendas_por_produto_loja2.min()\n",
        "\n",
        "print(f\"\\nProduto mais vendido (Loja 2): {produto_mais_vendido2} - {quantidade_mais_vendido2} unidades\")\n",
        "print(f\"Produto menos vendido (Loja2): {produto_menos_vendido2} - {quantidade_menos_vendido2} unidade(s)\")\n",
        "\n",
        "vendas_por_produto_loja3 = loja3['Produto'].value_counts()\n",
        "\n",
        "produto_mais_vendido3 = vendas_por_produto_loja3.idxmax()\n",
        "quantidade_mais_vendido3 = vendas_por_produto_loja3.max()\n",
        "\n",
        "produto_menos_vendido3 = vendas_por_produto_loja3.idxmin()\n",
        "quantidade_menos_vendido3 = vendas_por_produto_loja3.min()\n",
        "\n",
        "print(f\"\\nProduto mais vendido (Loja 3): {produto_mais_vendido3} - {quantidade_mais_vendido3} unidades\")\n",
        "print(f\"Produto menos vendido (Loja 3): {produto_menos_vendido3} - {quantidade_menos_vendido3} unidade(s)\")\n",
        "\n",
        "vendas_por_produto_loja4 = loja4['Produto'].value_counts()\n",
        "\n",
        "produto_mais_vendido4 = vendas_por_produto_loja4.idxmax()\n",
        "quantidade_mais_vendido4 = vendas_por_produto_loja4.max()\n",
        "\n",
        "produto_menos_vendido4 = vendas_por_produto_loja4.idxmin()\n",
        "quantidade_menos_vendido4 = vendas_por_produto_loja4.min()\n",
        "\n",
        "print(f\"\\nProduto mais vendido (Loja 4): {produto_mais_vendido4} - {quantidade_mais_vendido4} unidades\")\n",
        "print(f\"Produto menos vendido (Loja 4): {produto_menos_vendido4} - {quantidade_menos_vendido4} unidade(s)\")\n",
        "\n",
        "\n"
      ]
    },
    {
      "cell_type": "code",
      "execution_count": 7,
      "metadata": {},
      "outputs": [
        {
          "data": {
            "image/png": "[encoded data removed]",
            "text/plain": [
              "<Figure size 1000x600 with 1 Axes>"
            ]
          },
          "metadata": {},
          "output_type": "display_data"
        }
      ],
      "source": [
        "import matplotlib.pyplot as plt\n",
        "\n",
        "# Dados das lojas\n",
        "lojas = ['Loja 1', 'Loja 2', 'Loja 3', 'Loja 4']\n",
        "\n",
        "# Quantidades vendidas\n",
        "mais_vendidos = [60, 65, 57, 62]\n",
        "menos_vendidos = [33, 32, 35, 33]\n",
        "\n",
        "# Nomes dos produtos\n",
        "nomes_mais = ['TV Led UHD 4K', 'Iniciando em programação', 'Kit banquetas', 'Cama box']\n",
        "nomes_menos = ['Headset', 'Jogo de tabuleiro', 'Blocos de montar', 'Guitarra']\n",
        "\n",
        "# Criar gráfico\n",
        "plt.figure(figsize=(10, 6))\n",
        "\n",
        "# Dispersão para os mais vendidos\n",
        "plt.scatter(lojas, mais_vendidos, color='green', label='Mais Vendido', s=100)\n",
        "# Dispersão para os menos vendidos\n",
        "plt.scatter(lojas, menos_vendidos, color='red', label='Menos Vendido', s=100)\n",
        "\n",
        "# Anotar os valores no gráfico\n",
        "for i, loja in enumerate(lojas):\n",
        "    plt.text(loja, mais_vendidos[i] + 1, f\"{nomes_mais[i]} ({mais_vendidos[i]})\", ha='center', fontsize=8, color='green')\n",
        "    plt.text(loja, menos_vendidos[i] - 4, f\"{nomes_menos[i]} ({menos_vendidos[i]})\", ha='center', fontsize=8, color='red')\n",
        "\n",
        "# Título e legendas\n",
        "plt.title('Produtos Mais e Menos Vendidos por Loja')\n",
        "plt.ylabel('Quantidade Vendida')\n",
        "plt.grid(True, linestyle='--', alpha=0.5)\n",
        "plt.legend()\n",
        "plt.tight_layout()\n",
        "plt.show()\n"
      ]
    },
    {
      "cell_type": "markdown",
      "metadata": {
        "id": "Fl0cGi3bZKqU"
      },
      "source": [
        "# 5. Frete Médio por Loja\n"
      ]
    },
    {
      "cell_type": "code",
      "execution_count": 8,
      "metadata": {
        "id": "S2JeaCykZNy9"
      },
      "outputs": [
        {
          "name": "stdout",
          "output_type": "stream",
          "text": [
            "Frete médio da loja 1: R$ 34,69\n",
            "\n",
            "Frete médio da loja 2: R$ 33,62\n",
            "\n",
            "Frete médio da loja 3: R$ 33,07\n",
            "\n",
            "Frete médio da loja 4: R$ 31,28\n"
          ]
        }
      ],
      "source": [
        "frete_medio_loja1 = loja1['Frete'].mean()\n",
        "print(\"Frete médio da loja 1: R$ {:.2f}\".format(frete_medio_loja1).replace(',', 'X').replace('.', ',').replace('X', '.'))\n",
        "\n",
        "frete_medio_loja2 = loja2['Frete'].mean()\n",
        "print(\"\\nFrete médio da loja 2: R$ {:.2f}\".format(frete_medio_loja2).replace(',', 'X').replace('.', ',').replace('X', '.'))\n",
        "\n",
        "frete_medio_loja3 = loja3['Frete'].mean()\n",
        "print(\"\\nFrete médio da loja 3: R$ {:.2f}\".format(frete_medio_loja3).replace(',', 'X').replace('.', ',').replace('X', '.'))\n",
        "\n",
        "frete_medio_loja4 = loja4['Frete'].mean()\n",
        "print(\"\\nFrete médio da loja 4: R$ {:.2f}\".format(frete_medio_loja4).replace(',', 'X').replace('.', ',').replace('X', '.'))"
      ]
    },
    {
      "cell_type": "markdown",
      "metadata": {},
      "source": [
        "O menor frete foi da loja 4 e o maior foi da loja 1"
      ]
    },
    {
      "cell_type": "code",
      "execution_count": 9,
      "metadata": {},
      "outputs": [
        {
          "data": {
            "image/png": "[encoded data removed]",
            "text/plain": [
              "<Figure size 800x600 with 1 Axes>"
            ]
          },
          "metadata": {},
          "output_type": "display_data"
        }
      ],
      "source": [
        "import matplotlib.pyplot as plt\n",
        "\n",
        "# Dados\n",
        "lojas = ['Loja 1', 'Loja 2', 'Loja 3', 'Loja 4']\n",
        "fretes_medios = [34.69, 33.62, 33.07, 31.28]\n",
        "\n",
        "# Criar gráfico\n",
        "plt.figure(figsize=(8, 6))\n",
        "barras = plt.bar(lojas, fretes_medios, color='orange')\n",
        "\n",
        "# Adicionar valores em cima das barras\n",
        "for barra, valor in zip(barras, fretes_medios):\n",
        "    plt.text(barra.get_x() + barra.get_width() / 2, barra.get_height() + 0.3,\n",
        "             f\"R$ {valor:.2f}\", ha='center', va='bottom', fontsize=10)\n",
        "\n",
        "# Configurações do gráfico\n",
        "plt.ylabel('Frete Médio (R$)')\n",
        "plt.title('Frete Médio por Loja')\n",
        "plt.ylim(30, 36)\n",
        "plt.grid(axis='y', linestyle='--', alpha=0.5)\n",
        "plt.tight_layout()\n",
        "plt.show()\n"
      ]
    },
    {
      "cell_type": "markdown",
      "metadata": {},
      "source": [
        "RELATÓRIO FINAL\n",
        "\n",
        "Após uma análise descritiva com respeito aos dados obtidos, observou-se que a loja 4 teve o menor número de faturamento total. Com respeito aos tipos de materiais vendidos, os gráficos e as análises apontaram que o nicho de eletrônicos foi o mais vendido entre todas as lojas e o menos vendido foi o nicho de livros. No entanto, a venda dos materiais do nicho de eletrônicos foi mais detacada na loja 1, loja esta que teve o maior faturamento, enquanto que em termos de média todas as lojas se igualaram no nicho de menor venda chamado \"livros\". Na média de avalição dos clientes, destacou-se a loja 1 com a menor pontuação de avaliação (pontuação 3.98), ao passo que a loja 4 recebeu a segunda menor nota (pontuação 4). \n",
        "Na loja 1 o produto mais vendido foi a TV Led UHD 4K com 60 unidades à medida que na loja 4 foi a cama box com 62 unidades. O que parece que a diferença entre a loja que mais faturou em contrapartida a menos faturou se deu na venda de produtos mais caros da loja 1, especificamente no que tange ao nicho eletrônicos, enquanto na loja de menor faturamento, a loja 4, vendeu mais produto do nicho doméstico.\n",
        "No quesito frete, observou-se que o frete da loja 1 (34,69) foi o maior de todos. Certamente, tal frete também contribuiu para um maior valor no faturamento, enquanto que a loja 4 teve o menor frete (31,28) - fto que também influenciou em um faturamento menor.\n",
        "\n",
        "Diante disso, conclui-se que a loja com menor impacto no aspecto comercial com base em todas as análises será, ainda que vantagens nos requisitos de frete médio e avaliação do clientes, a loja 4, pois seu baixo faturamento, apesar de ser influenciada pelo frete médio e produto de valor mais barato, conta na importância da análise geral."
      ]
    }
  ],
  "metadata": {
    "colab": {
      "provenance": []
    },
    "kernelspec": {
      "display_name": "Python 3",
      "name": "python3"
    },
    "language_info": {
      "codemirror_mode": {
        "name": "ipython",
        "version": 3
      },
      "file_extension": ".py",
      "mimetype": "text/x-python",
      "name": "python",
      "nbconvert_exporter": "python",
      "pygments_lexer": "ipython3",
      "version": "3.12.4"
    }
  },
  "nbformat": 4,
  "nbformat_minor": 0
}
